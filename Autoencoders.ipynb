{
 "cells": [
  {
   "cell_type": "code",
   "execution_count": 1,
   "metadata": {},
   "outputs": [],
   "source": [
    "from random import randint\n",
    "\n",
    "import pandas as pd\n",
    "import numpy as np\n",
    "\n",
    "import matplotlib.pyplot as plt\n",
    "\n",
    "import tensorflow as tf\n",
    "\n",
    "from tensorflow import keras\n",
    "from tensorflow.keras import layers"
   ]
  },
  {
   "cell_type": "code",
   "execution_count": 2,
   "metadata": {},
   "outputs": [
    {
     "data": {
      "text/html": [
       "<div>\n",
       "<style scoped>\n",
       "    .dataframe tbody tr th:only-of-type {\n",
       "        vertical-align: middle;\n",
       "    }\n",
       "\n",
       "    .dataframe tbody tr th {\n",
       "        vertical-align: top;\n",
       "    }\n",
       "\n",
       "    .dataframe thead th {\n",
       "        text-align: right;\n",
       "    }\n",
       "</style>\n",
       "<table border=\"1\" class=\"dataframe\">\n",
       "  <thead>\n",
       "    <tr style=\"text-align: right;\">\n",
       "      <th></th>\n",
       "      <th>0</th>\n",
       "      <th>1</th>\n",
       "      <th>2</th>\n",
       "      <th>3</th>\n",
       "      <th>4</th>\n",
       "      <th>5</th>\n",
       "      <th>6</th>\n",
       "      <th>7</th>\n",
       "      <th>8</th>\n",
       "      <th>9</th>\n",
       "      <th>...</th>\n",
       "      <th>775</th>\n",
       "      <th>776</th>\n",
       "      <th>777</th>\n",
       "      <th>778</th>\n",
       "      <th>779</th>\n",
       "      <th>780</th>\n",
       "      <th>781</th>\n",
       "      <th>782</th>\n",
       "      <th>783</th>\n",
       "      <th>784</th>\n",
       "    </tr>\n",
       "  </thead>\n",
       "  <tbody>\n",
       "    <tr>\n",
       "      <th>368041</th>\n",
       "      <td>25</td>\n",
       "      <td>0</td>\n",
       "      <td>0</td>\n",
       "      <td>0</td>\n",
       "      <td>0</td>\n",
       "      <td>0</td>\n",
       "      <td>0</td>\n",
       "      <td>0</td>\n",
       "      <td>0</td>\n",
       "      <td>0</td>\n",
       "      <td>...</td>\n",
       "      <td>0</td>\n",
       "      <td>0</td>\n",
       "      <td>0</td>\n",
       "      <td>0</td>\n",
       "      <td>0</td>\n",
       "      <td>0</td>\n",
       "      <td>0</td>\n",
       "      <td>0</td>\n",
       "      <td>0</td>\n",
       "      <td>0</td>\n",
       "    </tr>\n",
       "    <tr>\n",
       "      <th>167734</th>\n",
       "      <td>14</td>\n",
       "      <td>0</td>\n",
       "      <td>0</td>\n",
       "      <td>0</td>\n",
       "      <td>0</td>\n",
       "      <td>0</td>\n",
       "      <td>0</td>\n",
       "      <td>0</td>\n",
       "      <td>0</td>\n",
       "      <td>0</td>\n",
       "      <td>...</td>\n",
       "      <td>0</td>\n",
       "      <td>0</td>\n",
       "      <td>0</td>\n",
       "      <td>0</td>\n",
       "      <td>0</td>\n",
       "      <td>0</td>\n",
       "      <td>0</td>\n",
       "      <td>0</td>\n",
       "      <td>0</td>\n",
       "      <td>0</td>\n",
       "    </tr>\n",
       "    <tr>\n",
       "      <th>353010</th>\n",
       "      <td>23</td>\n",
       "      <td>0</td>\n",
       "      <td>0</td>\n",
       "      <td>0</td>\n",
       "      <td>0</td>\n",
       "      <td>0</td>\n",
       "      <td>0</td>\n",
       "      <td>0</td>\n",
       "      <td>0</td>\n",
       "      <td>0</td>\n",
       "      <td>...</td>\n",
       "      <td>0</td>\n",
       "      <td>0</td>\n",
       "      <td>0</td>\n",
       "      <td>0</td>\n",
       "      <td>0</td>\n",
       "      <td>0</td>\n",
       "      <td>0</td>\n",
       "      <td>0</td>\n",
       "      <td>0</td>\n",
       "      <td>0</td>\n",
       "    </tr>\n",
       "    <tr>\n",
       "      <th>305262</th>\n",
       "      <td>19</td>\n",
       "      <td>0</td>\n",
       "      <td>0</td>\n",
       "      <td>0</td>\n",
       "      <td>0</td>\n",
       "      <td>0</td>\n",
       "      <td>0</td>\n",
       "      <td>0</td>\n",
       "      <td>0</td>\n",
       "      <td>0</td>\n",
       "      <td>...</td>\n",
       "      <td>0</td>\n",
       "      <td>0</td>\n",
       "      <td>0</td>\n",
       "      <td>0</td>\n",
       "      <td>0</td>\n",
       "      <td>0</td>\n",
       "      <td>0</td>\n",
       "      <td>0</td>\n",
       "      <td>0</td>\n",
       "      <td>0</td>\n",
       "    </tr>\n",
       "    <tr>\n",
       "      <th>221522</th>\n",
       "      <td>16</td>\n",
       "      <td>0</td>\n",
       "      <td>0</td>\n",
       "      <td>0</td>\n",
       "      <td>0</td>\n",
       "      <td>0</td>\n",
       "      <td>0</td>\n",
       "      <td>0</td>\n",
       "      <td>0</td>\n",
       "      <td>0</td>\n",
       "      <td>...</td>\n",
       "      <td>0</td>\n",
       "      <td>0</td>\n",
       "      <td>0</td>\n",
       "      <td>0</td>\n",
       "      <td>0</td>\n",
       "      <td>0</td>\n",
       "      <td>0</td>\n",
       "      <td>0</td>\n",
       "      <td>0</td>\n",
       "      <td>0</td>\n",
       "    </tr>\n",
       "    <tr>\n",
       "      <th>273725</th>\n",
       "      <td>18</td>\n",
       "      <td>0</td>\n",
       "      <td>0</td>\n",
       "      <td>0</td>\n",
       "      <td>0</td>\n",
       "      <td>0</td>\n",
       "      <td>0</td>\n",
       "      <td>0</td>\n",
       "      <td>0</td>\n",
       "      <td>0</td>\n",
       "      <td>...</td>\n",
       "      <td>0</td>\n",
       "      <td>0</td>\n",
       "      <td>0</td>\n",
       "      <td>0</td>\n",
       "      <td>0</td>\n",
       "      <td>0</td>\n",
       "      <td>0</td>\n",
       "      <td>0</td>\n",
       "      <td>0</td>\n",
       "      <td>0</td>\n",
       "    </tr>\n",
       "    <tr>\n",
       "      <th>215887</th>\n",
       "      <td>15</td>\n",
       "      <td>0</td>\n",
       "      <td>0</td>\n",
       "      <td>0</td>\n",
       "      <td>0</td>\n",
       "      <td>0</td>\n",
       "      <td>0</td>\n",
       "      <td>0</td>\n",
       "      <td>0</td>\n",
       "      <td>0</td>\n",
       "      <td>...</td>\n",
       "      <td>0</td>\n",
       "      <td>0</td>\n",
       "      <td>0</td>\n",
       "      <td>0</td>\n",
       "      <td>0</td>\n",
       "      <td>0</td>\n",
       "      <td>0</td>\n",
       "      <td>0</td>\n",
       "      <td>0</td>\n",
       "      <td>0</td>\n",
       "    </tr>\n",
       "    <tr>\n",
       "      <th>210453</th>\n",
       "      <td>15</td>\n",
       "      <td>0</td>\n",
       "      <td>0</td>\n",
       "      <td>0</td>\n",
       "      <td>0</td>\n",
       "      <td>0</td>\n",
       "      <td>0</td>\n",
       "      <td>0</td>\n",
       "      <td>0</td>\n",
       "      <td>0</td>\n",
       "      <td>...</td>\n",
       "      <td>0</td>\n",
       "      <td>0</td>\n",
       "      <td>0</td>\n",
       "      <td>0</td>\n",
       "      <td>0</td>\n",
       "      <td>0</td>\n",
       "      <td>0</td>\n",
       "      <td>0</td>\n",
       "      <td>0</td>\n",
       "      <td>0</td>\n",
       "    </tr>\n",
       "    <tr>\n",
       "      <th>41359</th>\n",
       "      <td>2</td>\n",
       "      <td>0</td>\n",
       "      <td>0</td>\n",
       "      <td>0</td>\n",
       "      <td>0</td>\n",
       "      <td>0</td>\n",
       "      <td>0</td>\n",
       "      <td>0</td>\n",
       "      <td>0</td>\n",
       "      <td>0</td>\n",
       "      <td>...</td>\n",
       "      <td>0</td>\n",
       "      <td>0</td>\n",
       "      <td>0</td>\n",
       "      <td>0</td>\n",
       "      <td>0</td>\n",
       "      <td>0</td>\n",
       "      <td>0</td>\n",
       "      <td>0</td>\n",
       "      <td>0</td>\n",
       "      <td>0</td>\n",
       "    </tr>\n",
       "    <tr>\n",
       "      <th>30640</th>\n",
       "      <td>2</td>\n",
       "      <td>0</td>\n",
       "      <td>0</td>\n",
       "      <td>0</td>\n",
       "      <td>0</td>\n",
       "      <td>0</td>\n",
       "      <td>0</td>\n",
       "      <td>0</td>\n",
       "      <td>0</td>\n",
       "      <td>0</td>\n",
       "      <td>...</td>\n",
       "      <td>0</td>\n",
       "      <td>0</td>\n",
       "      <td>0</td>\n",
       "      <td>0</td>\n",
       "      <td>0</td>\n",
       "      <td>0</td>\n",
       "      <td>0</td>\n",
       "      <td>0</td>\n",
       "      <td>0</td>\n",
       "      <td>0</td>\n",
       "    </tr>\n",
       "  </tbody>\n",
       "</table>\n",
       "<p>10 rows × 785 columns</p>\n",
       "</div>"
      ],
      "text/plain": [
       "        0    1    2    3    4    5    6    7    8    9    ...  775  776  777  \\\n",
       "368041   25    0    0    0    0    0    0    0    0    0  ...    0    0    0   \n",
       "167734   14    0    0    0    0    0    0    0    0    0  ...    0    0    0   \n",
       "353010   23    0    0    0    0    0    0    0    0    0  ...    0    0    0   \n",
       "305262   19    0    0    0    0    0    0    0    0    0  ...    0    0    0   \n",
       "221522   16    0    0    0    0    0    0    0    0    0  ...    0    0    0   \n",
       "273725   18    0    0    0    0    0    0    0    0    0  ...    0    0    0   \n",
       "215887   15    0    0    0    0    0    0    0    0    0  ...    0    0    0   \n",
       "210453   15    0    0    0    0    0    0    0    0    0  ...    0    0    0   \n",
       "41359     2    0    0    0    0    0    0    0    0    0  ...    0    0    0   \n",
       "30640     2    0    0    0    0    0    0    0    0    0  ...    0    0    0   \n",
       "\n",
       "        778  779  780  781  782  783  784  \n",
       "368041    0    0    0    0    0    0    0  \n",
       "167734    0    0    0    0    0    0    0  \n",
       "353010    0    0    0    0    0    0    0  \n",
       "305262    0    0    0    0    0    0    0  \n",
       "221522    0    0    0    0    0    0    0  \n",
       "273725    0    0    0    0    0    0    0  \n",
       "215887    0    0    0    0    0    0    0  \n",
       "210453    0    0    0    0    0    0    0  \n",
       "41359     0    0    0    0    0    0    0  \n",
       "30640     0    0    0    0    0    0    0  \n",
       "\n",
       "[10 rows x 785 columns]"
      ]
     },
     "execution_count": 2,
     "metadata": {},
     "output_type": "execute_result"
    }
   ],
   "source": [
    "alphabets_data = pd.read_csv('A_Z Handwritten Data.csv', header = None)\n",
    "\n",
    "alphabets_data.sample(10)"
   ]
  },
  {
   "cell_type": "code",
   "execution_count": 3,
   "metadata": {},
   "outputs": [
    {
     "data": {
      "text/plain": [
       "(372451, 785)"
      ]
     },
     "execution_count": 3,
     "metadata": {},
     "output_type": "execute_result"
    }
   ],
   "source": [
    "alphabets_data.shape"
   ]
  },
  {
   "cell_type": "markdown",
   "metadata": {},
   "source": [
    "* This is as good dataset to work with Autoencoders you can observe in the shape there are 372451 rows and 785 columns\n",
    "\n",
    "\n",
    "* This image dataset comprises of grey scale images\n",
    "\n",
    "\n",
    "* Every record in this dataset is singel channel representation of image i.e the intensity of the image\n",
    "\n",
    "\n",
    "* Every values in the dataset is a pixel value\n",
    "\n",
    "\n",
    "* 784 columns in the dataset reprasent the pixel value and the first column is representing label associated with each image of Handwritten alphabets. The labels range from 0 to 25 corresponding to each letter of the alphabet"
   ]
  },
  {
   "cell_type": "code",
   "execution_count": 4,
   "metadata": {},
   "outputs": [
    {
     "data": {
      "text/plain": [
       "(18623, 785)"
      ]
     },
     "execution_count": 4,
     "metadata": {},
     "output_type": "execute_result"
    }
   ],
   "source": [
    "alphabets_data = alphabets_data.sample(frac = 0.05).reset_index(drop = True)\n",
    "\n",
    "alphabets_data.shape"
   ]
  },
  {
   "cell_type": "markdown",
   "metadata": {},
   "source": [
    "* Here we are not woriking on the entire data, just we are taking 5% of the entire data"
   ]
  },
  {
   "cell_type": "code",
   "execution_count": 5,
   "metadata": {},
   "outputs": [
    {
     "data": {
      "text/plain": [
       "[0,\n",
       " 1,\n",
       " 2,\n",
       " 3,\n",
       " 4,\n",
       " 5,\n",
       " 6,\n",
       " 7,\n",
       " 8,\n",
       " 9,\n",
       " 10,\n",
       " 11,\n",
       " 12,\n",
       " 13,\n",
       " 14,\n",
       " 15,\n",
       " 16,\n",
       " 17,\n",
       " 18,\n",
       " 19,\n",
       " 20,\n",
       " 21,\n",
       " 22,\n",
       " 23,\n",
       " 24,\n",
       " 25]"
      ]
     },
     "execution_count": 5,
     "metadata": {},
     "output_type": "execute_result"
    }
   ],
   "source": [
    "sorted(alphabets_data[0].unique())"
   ]
  },
  {
   "cell_type": "code",
   "execution_count": 8,
   "metadata": {},
   "outputs": [],
   "source": [
    "lookup = { 0: 'A', 1: 'B', 2: 'C', 3: 'D', \n",
    "         4: 'E', 5:'F', 6:'G', 7:'H', 8:'I',\n",
    "         9: 'J', 10:'K', 11:'L', 12:'M', 13:'N',\n",
    "         14: 'O', 15: 'P', 16:'Q', 17:'R', 18:'S',\n",
    "         19: 'T', 20:'U',21:'V', 22:'W', 23:'X', 24:'Y', 25:'Z'}"
   ]
  },
  {
   "cell_type": "code",
   "execution_count": 9,
   "metadata": {},
   "outputs": [],
   "source": [
    "features = alphabets_data[alphabets_data.columns[1:]]\n",
    "\n",
    "target = alphabets_data[0]"
   ]
  },
  {
   "cell_type": "code",
   "execution_count": 10,
   "metadata": {},
   "outputs": [
    {
     "data": {
      "text/plain": [
       "(18623, 784)"
      ]
     },
     "execution_count": 10,
     "metadata": {},
     "output_type": "execute_result"
    }
   ],
   "source": [
    "features.shape"
   ]
  },
  {
   "cell_type": "code",
   "execution_count": 11,
   "metadata": {},
   "outputs": [],
   "source": [
    "features = features.values.reshape(len(features), 28, 28)"
   ]
  },
  {
   "cell_type": "code",
   "execution_count": 12,
   "metadata": {},
   "outputs": [
    {
     "data": {
      "text/plain": [
       "(18623, 28, 28)"
      ]
     },
     "execution_count": 12,
     "metadata": {},
     "output_type": "execute_result"
    }
   ],
   "source": [
    "features.shape"
   ]
  },
  {
   "cell_type": "code",
   "execution_count": 13,
   "metadata": {},
   "outputs": [
    {
     "data": {
      "text/plain": [
       "18"
      ]
     },
     "execution_count": 13,
     "metadata": {},
     "output_type": "execute_result"
    }
   ],
   "source": [
    "target.loc[10]"
   ]
  },
  {
   "cell_type": "code",
   "execution_count": 14,
   "metadata": {},
   "outputs": [
    {
     "data": {
      "text/plain": [
       "array([[  0,   0,   0,   0,   0,   0,   0,   0,   0,   0,   0,   0,  35,\n",
       "        171, 250, 255, 174,  60,   7,   0,   0,   0,   0,   0,   0,   0,\n",
       "          0,   0],\n",
       "       [  0,   0,   0,   0,   0,   0,   0,   0,   0,   0,   0,  50, 163,\n",
       "        248, 255, 190,  63,  11,   1,   0,   0,   0,   0,   0,   0,   0,\n",
       "          0,   0],\n",
       "       [  0,   0,   0,   0,   0,   0,   0,   0,   0,   0,  12, 169, 247,\n",
       "        255, 255, 206, 150, 149, 107,  94,  52,  13,   0,   0,   0,   0,\n",
       "          0,   0],\n",
       "       [  0,   0,   0,   0,   0,   0,   0,   0,   0,   0,  55, 246, 255,\n",
       "        255, 255, 255, 255, 255, 224, 214, 177, 126,  39,   0,   0,   0,\n",
       "          0,   0],\n",
       "       [  0,   0,   0,   0,  78,  66,  14,   0,   0,   0,  49, 210, 220,\n",
       "        190, 164, 134, 134, 134, 134, 170, 214, 237, 160,  24,   0,   0,\n",
       "          0,   0],\n",
       "       [  0,   0,   0,   0, 183, 189, 126,  63,   4,   0,   6,  89, 101,\n",
       "         67,  37,   3,   3,   3,   3,  43,  96, 197, 252, 100,   0,   0,\n",
       "          0,   0],\n",
       "       [  0,   0,   0,   0, 129, 194, 248, 188,  94,  27,   4,   0,   0,\n",
       "          0,   0,   0,   0,   0,   0,   0,   1,  81, 255, 196,   0,   0,\n",
       "          0,   0],\n",
       "       [  0,   0,   0,   0,   5,  66, 178, 244, 231, 137,  76,  23,   4,\n",
       "          0,   0,   0,   0,   0,   0,   0,   0,  51, 255, 244,   0,   0,\n",
       "          0,   0],\n",
       "       [  0,   0,   0,   0,   0,   0,  37, 160, 226, 253, 209, 127,  70,\n",
       "         20,   4,   0,   0,   0,   0,   0,  25, 153, 255, 216,   0,   0,\n",
       "          0,   0],\n",
       "       [  0,   0,   0,   0,   0,   0,   0,  18, 119, 194, 243, 253, 208,\n",
       "        117,  72,  42,  26,  21,  23,  45, 124, 247, 243, 137,   0,   0,\n",
       "          0,   0]], dtype=int64)"
      ]
     },
     "execution_count": 14,
     "metadata": {},
     "output_type": "execute_result"
    }
   ],
   "source": [
    "features[10][10:20]"
   ]
  },
  {
   "cell_type": "markdown",
   "metadata": {},
   "source": [
    "* You can observe the pixels values range from 0 255"
   ]
  },
  {
   "cell_type": "code",
   "execution_count": 15,
   "metadata": {},
   "outputs": [],
   "source": [
    "def show_image(features, actual_label):\n",
    "    \n",
    "    print(\"Actual Label\", lookup[actual_label])\n",
    "    \n",
    "    plt.imshow(features, cmap = 'Greys')\n",
    "    \n",
    "    plt.show()"
   ]
  },
  {
   "cell_type": "code",
   "execution_count": 16,
   "metadata": {},
   "outputs": [
    {
     "name": "stdout",
     "output_type": "stream",
     "text": [
      "Actual Label S\n"
     ]
    },
    {
     "data": {
      "image/png": "[encoded data removed]",
      "text/plain": [
       "<Figure size 432x288 with 1 Axes>"
      ]
     },
     "metadata": {
      "needs_background": "light"
     },
     "output_type": "display_data"
    }
   ],
   "source": [
    "show_image(features[10], target[10])"
   ]
  },
  {
   "cell_type": "code",
   "execution_count": 17,
   "metadata": {},
   "outputs": [
    {
     "name": "stdout",
     "output_type": "stream",
     "text": [
      "Actual Label N\n"
     ]
    },
    {
     "data": {
      "image/png": "[encoded data removed]",
      "text/plain": [
       "<Figure size 432x288 with 1 Axes>"
      ]
     },
     "metadata": {
      "needs_background": "light"
     },
     "output_type": "display_data"
    }
   ],
   "source": [
    "show_image(features[20], target[20])"
   ]
  },
  {
   "cell_type": "code",
   "execution_count": 18,
   "metadata": {},
   "outputs": [],
   "source": [
    "features = features.astype(np.float32)/255"
   ]
  },
  {
   "cell_type": "markdown",
   "metadata": {},
   "source": [
    "* Here we are scaling the image so that the range will come in 0 to 1"
   ]
  },
  {
   "cell_type": "code",
   "execution_count": 19,
   "metadata": {},
   "outputs": [
    {
     "data": {
      "text/plain": [
       "array([[0.        , 0.        , 0.        , 0.        , 0.        ,\n",
       "        0.        , 0.        , 0.        , 0.        , 0.        ,\n",
       "        0.        , 0.        , 0.13725491, 0.67058825, 0.98039216,\n",
       "        1.        , 0.68235296, 0.23529412, 0.02745098, 0.        ,\n",
       "        0.        , 0.        , 0.        , 0.        , 0.        ,\n",
       "        0.        , 0.        , 0.        ],\n",
       "       [0.        , 0.        , 0.        , 0.        , 0.        ,\n",
       "        0.        , 0.        , 0.        , 0.        , 0.        ,\n",
       "        0.        , 0.19607843, 0.6392157 , 0.972549  , 1.        ,\n",
       "        0.74509805, 0.24705882, 0.04313726, 0.00392157, 0.        ,\n",
       "        0.        , 0.        , 0.        , 0.        , 0.        ,\n",
       "        0.        , 0.        , 0.        ],\n",
       "       [0.        , 0.        , 0.        , 0.        , 0.        ,\n",
       "        0.        , 0.        , 0.        , 0.        , 0.        ,\n",
       "        0.04705882, 0.6627451 , 0.96862745, 1.        , 1.        ,\n",
       "        0.80784315, 0.5882353 , 0.58431375, 0.41960785, 0.36862746,\n",
       "        0.20392157, 0.05098039, 0.        , 0.        , 0.        ,\n",
       "        0.        , 0.        , 0.        ],\n",
       "       [0.        , 0.        , 0.        , 0.        , 0.        ,\n",
       "        0.        , 0.        , 0.        , 0.        , 0.        ,\n",
       "        0.21568628, 0.9647059 , 1.        , 1.        , 1.        ,\n",
       "        1.        , 1.        , 1.        , 0.8784314 , 0.8392157 ,\n",
       "        0.69411767, 0.49411765, 0.15294118, 0.        , 0.        ,\n",
       "        0.        , 0.        , 0.        ],\n",
       "       [0.        , 0.        , 0.        , 0.        , 0.30588236,\n",
       "        0.25882354, 0.05490196, 0.        , 0.        , 0.        ,\n",
       "        0.19215687, 0.8235294 , 0.8627451 , 0.74509805, 0.6431373 ,\n",
       "        0.5254902 , 0.5254902 , 0.5254902 , 0.5254902 , 0.6666667 ,\n",
       "        0.8392157 , 0.92941177, 0.627451  , 0.09411765, 0.        ,\n",
       "        0.        , 0.        , 0.        ],\n",
       "       [0.        , 0.        , 0.        , 0.        , 0.7176471 ,\n",
       "        0.7411765 , 0.49411765, 0.24705882, 0.01568628, 0.        ,\n",
       "        0.02352941, 0.34901962, 0.39607844, 0.2627451 , 0.14509805,\n",
       "        0.01176471, 0.01176471, 0.01176471, 0.01176471, 0.16862746,\n",
       "        0.3764706 , 0.77254903, 0.9882353 , 0.39215687, 0.        ,\n",
       "        0.        , 0.        , 0.        ],\n",
       "       [0.        , 0.        , 0.        , 0.        , 0.5058824 ,\n",
       "        0.7607843 , 0.972549  , 0.7372549 , 0.36862746, 0.10588235,\n",
       "        0.01568628, 0.        , 0.        , 0.        , 0.        ,\n",
       "        0.        , 0.        , 0.        , 0.        , 0.        ,\n",
       "        0.00392157, 0.31764707, 1.        , 0.76862746, 0.        ,\n",
       "        0.        , 0.        , 0.        ],\n",
       "       [0.        , 0.        , 0.        , 0.        , 0.01960784,\n",
       "        0.25882354, 0.69803923, 0.95686275, 0.90588236, 0.5372549 ,\n",
       "        0.29803923, 0.09019608, 0.01568628, 0.        , 0.        ,\n",
       "        0.        , 0.        , 0.        , 0.        , 0.        ,\n",
       "        0.        , 0.2       , 1.        , 0.95686275, 0.        ,\n",
       "        0.        , 0.        , 0.        ],\n",
       "       [0.        , 0.        , 0.        , 0.        , 0.        ,\n",
       "        0.        , 0.14509805, 0.627451  , 0.8862745 , 0.99215686,\n",
       "        0.81960785, 0.49803922, 0.27450982, 0.07843138, 0.01568628,\n",
       "        0.        , 0.        , 0.        , 0.        , 0.        ,\n",
       "        0.09803922, 0.6       , 1.        , 0.84705883, 0.        ,\n",
       "        0.        , 0.        , 0.        ],\n",
       "       [0.        , 0.        , 0.        , 0.        , 0.        ,\n",
       "        0.        , 0.        , 0.07058824, 0.46666667, 0.7607843 ,\n",
       "        0.9529412 , 0.99215686, 0.8156863 , 0.45882353, 0.28235295,\n",
       "        0.16470589, 0.10196079, 0.08235294, 0.09019608, 0.1764706 ,\n",
       "        0.4862745 , 0.96862745, 0.9529412 , 0.5372549 , 0.        ,\n",
       "        0.        , 0.        , 0.        ]], dtype=float32)"
      ]
     },
     "execution_count": 19,
     "metadata": {},
     "output_type": "execute_result"
    }
   ],
   "source": [
    "features[10][10:20]"
   ]
  },
  {
   "cell_type": "markdown",
   "metadata": {},
   "source": [
    "* Now our pixel values are in between 0 to 1"
   ]
  },
  {
   "cell_type": "code",
   "execution_count": 20,
   "metadata": {},
   "outputs": [],
   "source": [
    "from sklearn.model_selection import train_test_split\n",
    "\n",
    "train_images,test_images, train_labels, test_labels = train_test_split(features, target, test_size = 0.2) "
   ]
  },
  {
   "cell_type": "code",
   "execution_count": 21,
   "metadata": {},
   "outputs": [
    {
     "data": {
      "text/plain": [
       "(14898, 28, 28)"
      ]
     },
     "execution_count": 21,
     "metadata": {},
     "output_type": "execute_result"
    }
   ],
   "source": [
    "train_images.shape"
   ]
  },
  {
   "cell_type": "code",
   "execution_count": 22,
   "metadata": {},
   "outputs": [
    {
     "data": {
      "text/plain": [
       "(3725, 28, 28)"
      ]
     },
     "execution_count": 22,
     "metadata": {},
     "output_type": "execute_result"
    }
   ],
   "source": [
    "test_images.shape"
   ]
  },
  {
   "cell_type": "code",
   "execution_count": 26,
   "metadata": {},
   "outputs": [],
   "source": [
    "stacked_encoder = tf.keras.models.Sequential([\n",
    "    \n",
    "    layers.Flatten(input_shape = [28,28]),\n",
    "    \n",
    "    layers.Dense(64, activation = 'relu'),\n",
    "    layers.Dense(32, activation = 'relu'),\n",
    "    \n",
    "    \n",
    "    layers.Dense(16, activation = 'relu')\n",
    "      \n",
    "])"
   ]
  },
  {
   "cell_type": "code",
   "execution_count": 27,
   "metadata": {},
   "outputs": [
    {
     "name": "stdout",
     "output_type": "stream",
     "text": [
      "Model: \"sequential_1\"\n",
      "_________________________________________________________________\n",
      "Layer (type)                 Output Shape              Param #   \n",
      "=================================================================\n",
      "flatten_1 (Flatten)          (None, 784)               0         \n",
      "_________________________________________________________________\n",
      "dense_3 (Dense)              (None, 64)                50240     \n",
      "_________________________________________________________________\n",
      "dense_4 (Dense)              (None, 32)                2080      \n",
      "_________________________________________________________________\n",
      "dense_5 (Dense)              (None, 16)                528       \n",
      "=================================================================\n",
      "Total params: 52,848\n",
      "Trainable params: 52,848\n",
      "Non-trainable params: 0\n",
      "_________________________________________________________________\n"
     ]
    }
   ],
   "source": [
    "stacked_encoder.summary()"
   ]
  },
  {
   "cell_type": "code",
   "execution_count": 31,
   "metadata": {},
   "outputs": [],
   "source": [
    "stacked_decoder = tf.keras.models.Sequential([\n",
    "    \n",
    "    layers.Dense(32, activation = 'relu', input_shape = [16]),\n",
    "    \n",
    "    layers.Dense(64, activation = 'relu'),\n",
    "    \n",
    "    layers.Dense(28 * 28, activation = 'relu'),\n",
    "    \n",
    "    layers.Reshape([28, 28])\n",
    "])"
   ]
  },
  {
   "cell_type": "code",
   "execution_count": 32,
   "metadata": {},
   "outputs": [
    {
     "name": "stdout",
     "output_type": "stream",
     "text": [
      "Model: \"sequential_5\"\n",
      "_________________________________________________________________\n",
      "Layer (type)                 Output Shape              Param #   \n",
      "=================================================================\n",
      "sequential_1 (Sequential)    (None, 16)                52848     \n",
      "_________________________________________________________________\n",
      "sequential_4 (Sequential)    (None, 28, 28)            53616     \n",
      "=================================================================\n",
      "Total params: 106,464\n",
      "Trainable params: 106,464\n",
      "Non-trainable params: 0\n",
      "_________________________________________________________________\n"
     ]
    }
   ],
   "source": [
    "ae_model = tf.keras.models.Sequential([stacked_encoder, stacked_decoder])\n",
    "\n",
    "ae_model.summary()"
   ]
  },
  {
   "cell_type": "code",
   "execution_count": 34,
   "metadata": {},
   "outputs": [],
   "source": [
    "# keras.utils.plot_model(ae_model, expand_nested = True, show_shapes = True)"
   ]
  },
  {
   "cell_type": "code",
   "execution_count": 35,
   "metadata": {},
   "outputs": [],
   "source": [
    "ae_model.compile(loss = 'mean_squared_error',\n",
    "                optimizer = tf.keras.optimizers.RMSprop(),\n",
    "                metrics = ['mse'])"
   ]
  },
  {
   "cell_type": "code",
   "execution_count": 36,
   "metadata": {},
   "outputs": [
    {
     "name": "stdout",
     "output_type": "stream",
     "text": [
      "Epoch 1/20\n",
      "466/466 [==============================] - 1s 1ms/step - loss: 0.0639 - mse: 0.0639\n",
      "Epoch 2/20\n",
      "466/466 [==============================] - 1s 1ms/step - loss: 0.0453 - mse: 0.0453\n",
      "Epoch 3/20\n",
      "466/466 [==============================] - 1s 1ms/step - loss: 0.0397 - mse: 0.0397\n",
      "Epoch 4/20\n",
      "466/466 [==============================] - 1s 1ms/step - loss: 0.0361 - mse: 0.0361\n",
      "Epoch 5/20\n",
      "466/466 [==============================] - 1s 1ms/step - loss: 0.0337 - mse: 0.0337\n",
      "Epoch 6/20\n",
      "466/466 [==============================] - 1s 1ms/step - loss: 0.0311 - mse: 0.0311\n",
      "Epoch 7/20\n",
      "466/466 [==============================] - 1s 1ms/step - loss: 0.0299 - mse: 0.0299\n",
      "Epoch 8/20\n",
      "466/466 [==============================] - 1s 1ms/step - loss: 0.0290 - mse: 0.0290\n",
      "Epoch 9/20\n",
      "466/466 [==============================] - 1s 1ms/step - loss: 0.0283 - mse: 0.0283\n",
      "Epoch 10/20\n",
      "466/466 [==============================] - 1s 1ms/step - loss: 0.0278 - mse: 0.0278\n",
      "Epoch 11/20\n",
      "466/466 [==============================] - 1s 1ms/step - loss: 0.0274 - mse: 0.0274\n",
      "Epoch 12/20\n",
      "466/466 [==============================] - 1s 2ms/step - loss: 0.0270 - mse: 0.0270\n",
      "Epoch 13/20\n",
      "466/466 [==============================] - 1s 1ms/step - loss: 0.0267 - mse: 0.0267\n",
      "Epoch 14/20\n",
      "466/466 [==============================] - 1s 1ms/step - loss: 0.0264 - mse: 0.0264\n",
      "Epoch 15/20\n",
      "466/466 [==============================] - 1s 1ms/step - loss: 0.0262 - mse: 0.0262\n",
      "Epoch 16/20\n",
      "466/466 [==============================] - 1s 2ms/step - loss: 0.0260 - mse: 0.0260\n",
      "Epoch 17/20\n",
      "466/466 [==============================] - 1s 1ms/step - loss: 0.0258 - mse: 0.0258\n",
      "Epoch 18/20\n",
      "466/466 [==============================] - 1s 1ms/step - loss: 0.0256 - mse: 0.0256\n",
      "Epoch 19/20\n",
      "466/466 [==============================] - 1s 1ms/step - loss: 0.0254 - mse: 0.0254\n",
      "Epoch 20/20\n",
      "466/466 [==============================] - 1s 1ms/step - loss: 0.0252 - mse: 0.0252\n"
     ]
    }
   ],
   "source": [
    "training_hist = ae_model.fit(train_images,train_images, epochs = 20, verbose = True)"
   ]
  },
  {
   "cell_type": "code",
   "execution_count": 40,
   "metadata": {},
   "outputs": [],
   "source": [
    " def reconstruct_img(model, images, n_imgs):\n",
    "        \n",
    "        random_int = randint(0, images.shape[0] - n_imgs)\n",
    "        \n",
    "        reconstructions = model.predict(images[random_int : random_int + n_imgs])\n",
    "        \n",
    "        fig = plt.figure(figsize = (n_imgs * 3, 3))\n",
    "        \n",
    "        for img_index in range(n_imgs):\n",
    "            plt.subplot(2, n_imgs, 1+img_index)\n",
    "            plt.imshow(images[random_int + img_index], cmap = 'Greys')\n",
    "            \n",
    "            plt.subplot(2, n_imgs, 1 + n_imgs + img_index)\n",
    "            \n",
    "            plt.imshow(reconstructions[img_index], cmap = 'Greys')"
   ]
  },
  {
   "cell_type": "code",
   "execution_count": 41,
   "metadata": {},
   "outputs": [
    {
     "data": {
      "image/png": "[encoded data removed]",
      "text/plain": [
       "<Figure size 1080x216 with 10 Axes>"
      ]
     },
     "metadata": {
      "needs_background": "light"
     },
     "output_type": "display_data"
    }
   ],
   "source": [
    "reconstruct_img(ae_model, test_images, 5)"
   ]
  },
  {
   "cell_type": "code",
   "execution_count": 42,
   "metadata": {},
   "outputs": [
    {
     "data": {
      "image/png": "[encoded data removed]",
      "text/plain": [
       "<Figure size 1296x216 with 12 Axes>"
      ]
     },
     "metadata": {
      "needs_background": "light"
     },
     "output_type": "display_data"
    }
   ],
   "source": [
    "reconstruct_img(ae_model, test_images , 6)"
   ]
  },
  {
   "cell_type": "markdown",
   "metadata": {},
   "source": [
    "* The first row in the above images is original data and the second row is the reconstructed images on the original data by using autoencoder(which is combination of both encoding i.e encoder and decoding i.e decoder) and Sequential Dense layer"
   ]
  },
  {
   "cell_type": "markdown",
   "metadata": {},
   "source": [
    "### ------------------------------------------------------------------------------------------------------------------------------------------------------------"
   ]
  },
  {
   "cell_type": "markdown",
   "metadata": {},
   "source": [
    "* Convolutional Neural Network works better with images compared to Sequential Dense Neural Network, Now will build a model with Convolution Neural Network on image data of Handwritten Alphabets "
   ]
  },
  {
   "cell_type": "code",
   "execution_count": 63,
   "metadata": {},
   "outputs": [],
   "source": [
    "conv_encoder = tf.keras.models.Sequential([\n",
    "    \n",
    "    layers.Reshape([28, 28, 1], input_shape = [28, 28]),\n",
    "    \n",
    "    layers.Conv2D(16, kernel_size = 3, padding = 'SAME', activation = 'relu'),\n",
    "    layers.MaxPool2D(pool_size = 2),\n",
    "    \n",
    "    layers.Conv2D(32, kernel_size = 3, padding = 'SAME', activation = 'relu'),\n",
    "    layers.MaxPool2D(pool_size = 2),\n",
    "    \n",
    "    layers.Conv2D(64, kernel_size = 3, padding = 'SAME', activation = 'relu'),\n",
    "    layers.MaxPool2D(pool_size = 2)\n",
    "])"
   ]
  },
  {
   "cell_type": "code",
   "execution_count": 64,
   "metadata": {},
   "outputs": [],
   "source": [
    "conv_decoder = tf.keras.models.Sequential([\n",
    "    \n",
    "    layers.Conv2DTranspose(32, kernel_size = 3, strides = 2, padding = 'VALID', \n",
    "                           activation = 'relu', \n",
    "                           input_shape = [3, 3, 64]),\n",
    "    \n",
    "    layers.Conv2DTranspose(16, kernel_size = 3, padding = 'SAME', strides = 2, activation = 'relu'),\n",
    "    \n",
    "    \n",
    "    layers.Conv2DTranspose(1, kernel_size = 3, padding = 'SAME', strides = 2, activation = 'sigmoid'),\n",
    "\n",
    "    layers.Reshape([28, 28])\n",
    "])"
   ]
  },
  {
   "cell_type": "markdown",
   "metadata": {},
   "source": [
    "* The encoder and decoder are Sequential models \n",
    "\n",
    "\n",
    "* Reshape([28, 28, 1]) is Height, Width, and number of channels of an image(if number of channel = 1 that is an Grey scale image, if channel = 3 that is colord image of Red, Green and Blue)\n",
    "\n",
    "\n",
    "* For every convolutional layer in Encoder we have inverse of every layer in Decoder that is Transpose on every corresponding Encoder layer\n",
    "\n",
    "\n",
    "* The objective of the Decoder in autoencoder is to reconstruct the original image from it's Latent features\n",
    "\n"
   ]
  },
  {
   "cell_type": "code",
   "execution_count": 65,
   "metadata": {},
   "outputs": [
    {
     "name": "stdout",
     "output_type": "stream",
     "text": [
      "Model: \"sequential_16\"\n",
      "_________________________________________________________________\n",
      "Layer (type)                 Output Shape              Param #   \n",
      "=================================================================\n",
      "sequential_14 (Sequential)   (None, 3, 3, 64)          23296     \n",
      "_________________________________________________________________\n",
      "sequential_15 (Sequential)   (None, 28, 28)            23233     \n",
      "=================================================================\n",
      "Total params: 46,529\n",
      "Trainable params: 46,529\n",
      "Non-trainable params: 0\n",
      "_________________________________________________________________\n"
     ]
    }
   ],
   "source": [
    "conv_ae_model = tf.keras.models.Sequential([conv_encoder, conv_decoder])\n",
    "\n",
    "conv_ae_model.summary()"
   ]
  },
  {
   "cell_type": "code",
   "execution_count": 66,
   "metadata": {},
   "outputs": [],
   "source": [
    "conv_ae_model.compile(loss = tf.keras.losses.BinaryCrossentropy(),\n",
    "                     optimizer = tf.keras.optimizers.SGD(lr = 1.0),\n",
    "                     metrics = ['mse'])"
   ]
  },
  {
   "cell_type": "code",
   "execution_count": 67,
   "metadata": {},
   "outputs": [
    {
     "name": "stdout",
     "output_type": "stream",
     "text": [
      "Epoch 1/10\n",
      "466/466 [==============================] - 6s 13ms/step - loss: 0.2816 - mse: 0.0659\n",
      "Epoch 2/10\n",
      "466/466 [==============================] - 6s 13ms/step - loss: 0.1496 - mse: 0.0247\n",
      "Epoch 3/10\n",
      "466/466 [==============================] - 6s 14ms/step - loss: 0.1299 - mse: 0.0179\n",
      "Epoch 4/10\n",
      "466/466 [==============================] - 7s 14ms/step - loss: 0.1192 - mse: 0.0142\n",
      "Epoch 5/10\n",
      "466/466 [==============================] - 6s 14ms/step - loss: 0.1129 - mse: 0.0121\n",
      "Epoch 6/10\n",
      "466/466 [==============================] - 6s 14ms/step - loss: 0.1087 - mse: 0.0107\n",
      "Epoch 7/10\n",
      "466/466 [==============================] - 6s 14ms/step - loss: 0.1052 - mse: 0.0096\n",
      "Epoch 8/10\n",
      "466/466 [==============================] - 6s 14ms/step - loss: 0.1029 - mse: 0.0089\n",
      "Epoch 9/10\n",
      "466/466 [==============================] - 7s 14ms/step - loss: 0.1012 - mse: 0.0083\n",
      "Epoch 10/10\n",
      "466/466 [==============================] - 7s 14ms/step - loss: 0.0997 - mse: 0.0078\n"
     ]
    }
   ],
   "source": [
    "training_hist_convAE = conv_ae_model.fit(train_images, train_images, epochs = 10)"
   ]
  },
  {
   "cell_type": "code",
   "execution_count": 68,
   "metadata": {},
   "outputs": [
    {
     "data": {
      "image/png": "[encoded data removed]",
      "text/plain": [
       "<Figure size 1080x216 with 10 Axes>"
      ]
     },
     "metadata": {
      "needs_background": "light"
     },
     "output_type": "display_data"
    }
   ],
   "source": [
    "reconstruct_img(conv_ae_model, test_images, 5)"
   ]
  },
  {
   "cell_type": "markdown",
   "metadata": {},
   "source": [
    "* By viewing the results of images we can say that Convolutional Neural Network based Autoencoders has performed far better at reconstructing the images than the Simple Stacked Autoencoders "
   ]
  },
  {
   "cell_type": "code",
   "execution_count": 69,
   "metadata": {},
   "outputs": [
    {
     "data": {
      "image/png": "[encoded data removed]",
      "text/plain": [
       "<Figure size 1080x216 with 10 Axes>"
      ]
     },
     "metadata": {
      "needs_background": "light"
     },
     "output_type": "display_data"
    }
   ],
   "source": [
    "reconstruct_img(conv_ae_model, test_images, 5)"
   ]
  },
  {
   "cell_type": "code",
   "execution_count": null,
   "metadata": {},
   "outputs": [],
   "source": []
  }
 ],
 "metadata": {
  "kernelspec": {
   "display_name": "Python 3",
   "language": "python",
   "name": "python3"
  },
  "language_info": {
   "codemirror_mode": {
    "name": "ipython",
    "version": 3
   },
   "file_extension": ".py",
   "mimetype": "text/x-python",
   "name": "python",
   "nbconvert_exporter": "python",
   "pygments_lexer": "ipython3",
   "version": "3.8.3"
  }
 },
 "nbformat": 4,
 "nbformat_minor": 4
}
